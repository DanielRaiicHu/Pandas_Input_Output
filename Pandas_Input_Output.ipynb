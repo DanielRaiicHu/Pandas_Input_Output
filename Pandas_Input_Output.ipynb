{
  "nbformat": 4,
  "nbformat_minor": 0,
  "metadata": {
    "colab": {
      "provenance": [],
      "authorship_tag": "ABX9TyPZf4ahG3PSSQRGVPObXap1"
    },
    "kernelspec": {
      "name": "python3",
      "display_name": "Python 3"
    },
    "language_info": {
      "name": "python"
    }
  },
  "cells": [
    {
      "cell_type": "markdown",
      "source": [
        "<a href=\"https://colab.research.google.com/github/DanielRaiicHu/Pandas_Input_Output/blob/main/Pandas_Input_Output.ipynb?forceRefresh=true\">\n",
        "  <img src=\"https://drive.google.com/uc?export=view&id=191Woxwut0iaIL2hCcCIeXRSB6oba_88H\" alt=\"Abrir en Colab\" width=\"120\"/>\n",
        "</a>"
      ],
      "metadata": {
        "id": "hHw11oBrr0rd"
      }
    },
    {
      "cell_type": "markdown",
      "source": [
        "# **Aula 1: Leyendo archivos csv**"
      ],
      "metadata": {
        "id": "ABZwnGWCykmT"
      }
    },
    {
      "cell_type": "markdown",
      "source": [
        "## **Importando archivos CSV**"
      ],
      "metadata": {
        "id": "6v4BvEyKyutp"
      }
    },
    {
      "cell_type": "markdown",
      "source": [
        "Valores Separados por Comas (Comma Separated Values en inglés)"
      ],
      "metadata": {
        "id": "sM5kulc8yn5B"
      }
    },
    {
      "cell_type": "code",
      "source": [
        "import pandas as pd"
      ],
      "metadata": {
        "id": "C7Sp5yKlrK6I"
      },
      "execution_count": 1,
      "outputs": []
    }
  ]
}