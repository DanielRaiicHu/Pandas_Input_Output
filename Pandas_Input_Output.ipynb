{
  "nbformat": 4,
  "nbformat_minor": 0,
  "metadata": {
    "colab": {
      "provenance": [],
      "authorship_tag": "ABX9TyM8qyJZfSsKG2zRl+iUGGaX"
    },
    "kernelspec": {
      "name": "python3",
      "display_name": "Python 3"
    },
    "language_info": {
      "name": "python"
    }
  },
  "cells": [
    {
      "cell_type": "markdown",
      "source": [
        "<a href=\"https://colab.research.google.com/drive/10lYgfFqfX5Y7R7ar5QakGy4u5VeFeuaI#scrollTo=FCtn7Ks8qvKg\">\n",
        "  <img src=\"https://drive.google.com/uc?export=view&id=191Woxwut0iaIL2hCcCIeXRSB6oba_88H\" alt=\"Abrir en Colab\" width=\"120\"/>\n",
        "</a>"
      ],
      "metadata": {
        "id": "hHw11oBrr0rd"
      }
    },
    {
      "cell_type": "code",
      "execution_count": null,
      "metadata": {
        "id": "FCtn7Ks8qvKg"
      },
      "outputs": [],
      "source": [
        "\n",
        "# **Pandas**\n",
        "\n",
        "\n",
        "#<a href=\"https://colab.research.google.com/github/DanielRaiicHu/pandas/blob/main/Pandas_Input_Output.ipynb?forceRefresh=true\">\n",
        "#  <img src=\"https://drive.google.com/uc?export=view&id=191Woxwut0iaIL2hCcCIeXRSB6oba_88H\" alt=\"Abrir en Colab\" width=\"120\"/>\n",
        "#</a>\n",
        "\n",
        "# **Aula 1: Leyendo archivos csv**"
      ]
    },
    {
      "cell_type": "code",
      "source": [],
      "metadata": {
        "id": "C7Sp5yKlrK6I"
      },
      "execution_count": null,
      "outputs": []
    }
  ]
}