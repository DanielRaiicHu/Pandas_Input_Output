{
  "nbformat": 4,
  "nbformat_minor": 0,
  "metadata": {
    "colab": {
      "provenance": [],
      "authorship_tag": "ABX9TyPhrOerpqKyM/aV+tf1nOz1"
    },
    "kernelspec": {
      "name": "python3",
      "display_name": "Python 3"
    },
    "language_info": {
      "name": "python"
    }
  },
  "cells": [
    {
      "cell_type": "markdown",
      "source": [
        "<a href=\"https://colab.research.google.com/drive/10lYgfFqfX5Y7R7ar5QakGy4u5VeFeuaI#scrollTo=FCtn7Ks8qvKg?forceRefresh=true\">\n",
        "  <img src=\"https://drive.google.com/uc?export=view&id=191Woxwut0iaIL2hCcCIeXRSB6oba_88H\" alt=\"Abrir en Colab\" width=\"120\"/>\n",
        "</a>"
      ],
      "metadata": {
        "id": "hHw11oBrr0rd"
      }
    },
    {
      "cell_type": "markdown",
      "source": [
        "# **Aula 1: Leyendo archivos csv**"
      ],
      "metadata": {
        "id": "ABZwnGWCykmT"
      }
    },
    {
      "cell_type": "markdown",
      "source": [
        "## **Importando archivos CSV**"
      ],
      "metadata": {
        "id": "6v4BvEyKyutp"
      }
    },
    {
      "cell_type": "markdown",
      "source": [
        "Valores Separados por Comas (Comma Separated Values en inglés)"
      ],
      "metadata": {
        "id": "sM5kulc8yn5B"
      }
    },
    {
      "cell_type": "code",
      "source": [],
      "metadata": {
        "id": "C7Sp5yKlrK6I"
      },
      "execution_count": null,
      "outputs": []
    }
  ]
}